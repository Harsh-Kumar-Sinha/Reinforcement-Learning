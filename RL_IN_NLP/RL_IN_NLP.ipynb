{
 "cells": [
  {
   "attachments": {},
   "cell_type": "markdown",
   "metadata": {},
   "source": [
    "PROBLEM STATEMENT\n",
    "\n",
    "            # Reinforcement Learning to Rank in Search Engine/Value information/Product quality\n",
    "\n",
    "Let say we have a search engine that provides results according to searches via traditional techniques from given set of unstructured data.Now as we know every user is not same.Your nlp search engine might help 60% of the user but it still lacks 40% user. \n",
    "Traditional search engines\n",
    "1. Rule-based search\n",
    "2. Statistical search\n",
    "3. Lexicon-based search\n",
    "4. Semantic search\n",
    "\n",
    "\n",
    "\n"
   ]
  },
  {
   "attachments": {},
   "cell_type": "markdown",
   "metadata": {},
   "source": [
    "Library"
   ]
  },
  {
   "cell_type": "code",
   "execution_count": 1,
   "metadata": {},
   "outputs": [],
   "source": [
    "from sentence_transformers import SentenceTransformer, util\n",
    "from transformers import pipeline\n",
    "from transformers import AutoTokenizer, AutoModel\n",
    "import tensorflow as tf\n",
    "import numpy as np\n",
    "import random\n",
    "import json"
   ]
  },
  {
   "attachments": {},
   "cell_type": "markdown",
   "metadata": {},
   "source": [
    "PROCEDURE TO ACHIEVE RESULTS\n",
    "\n",
    "1. Search or Create several different searching techniques which return results according to need\n",
    "\n",
    "2. Now Create a table that has key which indicates different functions with values 1 as start\n",
    "\n",
    "3. Now create a input sections which gives user privilege to contibute its input\n",
    "\n",
    "4. Now use a Probability function that use the score table and rank the prefrences according to user"
   ]
  },
  {
   "attachments": {
    "file_input.png": {
     "image/png": "[encoded data removed]"
    }
   },
   "cell_type": "markdown",
   "metadata": {},
   "source": [
    "FILE INPUT\n",
    "\n",
    "File where we need spacific informations\n",
    "\n",
    "\n",
    "![file_input.png](attachment:file_input.png)"
   ]
  },
  {
   "cell_type": "code",
   "execution_count": 2,
   "metadata": {},
   "outputs": [],
   "source": [
    "with open(\"POLICY.txt\",encoding=\"utf-8\") as value:\n",
    "    text=value.readlines()\n",
    "text=\"\".join(text)\n",
    "\n",
    "# text=\"\"\"SAMPLE POLICY ON THE USE OF COMPANY EQUIPMENT,\n",
    "# THE INTERNET, COMPUTERS, SOLICITATION AND BULLETIN BOARDS\n",
    "# Use of Equipment\n",
    "#  All Company property – including desks, storage areas, work areas, lockers, file cabinets,\n",
    "# credenzas, computer systems, office telephones, cellular telephones, modems, facsimile\n",
    "# machines, duplicating machines, copying machines and vehicles – must be used properly and\n",
    "# maintained in good working order. Employees who lose, steal, or misuse Company property\n",
    "# may be personally liable for replacing or repairing the item.\n",
    "#  The Company reserves the right, at all times and without further notice, to inspect and\n",
    "# search all Company property for the purpose of determining whether this policy or any other\n",
    "# policy of the Company has been violated, or when an inspection and investigation is necessary\n",
    "# for purposes of promoting safety in the workplace or compliance with state and federal laws.\n",
    "# These inspections may be conducted during or outside of business hours and in the presence or\n",
    "# absence of the affected employee.\"\"\""
   ]
  },
  {
   "attachments": {},
   "cell_type": "markdown",
   "metadata": {},
   "source": [
    "TOKENIZING WORD TEXT"
   ]
  },
  {
   "cell_type": "code",
   "execution_count": 3,
   "metadata": {},
   "outputs": [],
   "source": [
    "tokenizer = AutoTokenizer.from_pretrained('sentence-transformers/bert-base-nli-mean-tokens')\n",
    "model = SentenceTransformer('sentence-transformers/all-mpnet-base-v2')\n"
   ]
  },
  {
   "attachments": {},
   "cell_type": "markdown",
   "metadata": {},
   "source": [
    "TOKENZIKING SENTENCE"
   ]
  },
  {
   "cell_type": "code",
   "execution_count": 4,
   "metadata": {},
   "outputs": [
    {
     "name": "stderr",
     "output_type": "stream",
     "text": [
      "2023-02-08 11:16:27 INFO: Checking for updates to resources.json in case models have been updated.  Note: this behavior can be turned off with download_method=None or download_method=DownloadMethod.REUSE_RESOURCES\n"
     ]
    },
    {
     "data": {
      "application/vnd.jupyter.widget-view+json": {
       "model_id": "fc1833232a5d4c5da848cb14b305aa3f",
       "version_major": 2,
       "version_minor": 0
      },
      "text/plain": [
       "Downloading https://raw.githubusercontent.com/stanfordnlp/stanza-resources/main/resources_1.4.1.json:   0%|   …"
      ]
     },
     "metadata": {},
     "output_type": "display_data"
    },
    {
     "name": "stderr",
     "output_type": "stream",
     "text": [
      "2023-02-08 11:16:27 INFO: Loading these models for language: en (English):\n",
      "========================\n",
      "| Processor | Package  |\n",
      "------------------------\n",
      "| tokenize  | combined |\n",
      "========================\n",
      "\n",
      "2023-02-08 11:16:27 INFO: Use device: cpu\n",
      "2023-02-08 11:16:27 INFO: Loading: tokenize\n",
      "2023-02-08 11:16:27 INFO: Done loading processors!\n"
     ]
    },
    {
     "name": "stdout",
     "output_type": "stream",
     "text": [
      "['SAMPLE POLICY ON THE USE OF COMPANY EQUIPMENT , THE INTERNET , COMPUTERS , SOLICITATION AND BULLETIN BOARDS ', 'Use of Equipment All Company property – including desks , storage areas , work areas , lockers , file cabinets , credenzas , computer systems , office telephones , cellular telephones , modems , facsimile machines , duplicating machines , copying machines and vehicles – must be used properly and maintained in good working order . ', 'Employees who lose , steal , or misuse Company property may be personally liable for replacing or repairing the item . ', 'The Company reserves the right , at all times and without further notice , to inspect and search all Company property for the purpose of determining whether this policy or any other policy of the Company has been violated , or when an inspection and investigation is necessary for purposes of promoting safety in the workplace or compliance with state and federal laws . ', 'These inspections may be conducted during or outside of business hours and in the presence or absence of the affected employee . ', 'To protect the Company ’s legitimate business interests , the Company reserves the right to question and inspect or search any employee or other individual entering or leaving Company premises , with or without notice . ', 'The inspection or search may include any packages or items that the individual may be carrying , including briefcases , handbags , knapsacks , shopping bags , et cetera . ', 'The individual may be requested to display the contents of any packages and / or turn out his or her pockets , et cetera , in the presence of a representative of the Company , typically a management employee of the same gender . ', 'Whether information is entered or sent during or outside of working time , employees have no right of privacy as to any information or file maintained in or on Company property or transmitted or stored through Company computer systems , voice mail , e-mail or other technical resources . ', 'If , during the course of your employment , you perform or transmit work on Company computer systems or other technical resources , your work may be subject to the investigation , search and review of others in accordance with this policy . ', 'In addition , any electronically stored communications that you either send to or receive from others may be retrieved and reviewed when doing so serves the legitimate business interests and obligations of the Company . ', 'Employees should use the computer systems only for business purposes . ', 'Using e-mail or the Internet for personal , non-business , purposes is prohibited during working time ( as that term is defined in the Solicitation / Distribution of Literature section below ) . ', 'Employees may access only electronic files or programs that they have permission to enter . ', 'Unauthorized copying or use of computer software exposes both the Company and the individual employee to substantial fines and / or imprisonment . ', 'Therefore , employees may not load personal software onto the Company ’s computer system , and may not copy software from the Company for personal use . ', 'All employees must contact the ( insert title of appropriate Company representative ) to install any software on the Company ’s computer system . ', '2 Unauthorized review , duplication , dissemination , removal , installation , damage or alteration of files , passwords , computer systems or programs , or other property of the Company , or improper use of information obtained by unauthorized means , will not be tolerated . ', 'Messages stored and / or transmitted by voice mail or e-mail must not contain content that may reasonably be considered offensive or disruptive to any employee . ', 'Offensive content would include , but not be limited to , sexual comments or images , racial slurs , gender - specific comments or any comments or images that would offend someone on the basis of his or her age , sexual orientation , religious or political beliefs , national origin or disability . ', 'Unacceptable Use of the Internet ', 'In addition to the requirements stated above , use of the Internet must not disrupt the operation of the Company network or the networks of other users , and must not interfere with the productivity of any employee . ', 'Copyrighted materials belonging to entities other than this Company may not be transmitted by employees on the Internet . ', 'One copy of copyrighted material may be downloaded for an employee ’s personal use in research if pre-approved by the employee ’s manager . ', 'Employees are not permitted to copy , transfer , rename , add or delete information or programs belonging to other users unless given express permission to do so by the owner of such information or programs . ', 'Employees should be aware that harassment of any kind is prohibited . ', 'No messages with derogatory or inflammatory remarks about an individual or group ’s age , disability , gender , race , religion , national origin , physical attributes , sexual preference or any other classification protected by federal , state or local law will be transmitted . ', 'Employee Responsibilities Employees will be given an electronic mail password when granted access to the Internet or the Company ’s electronic mail system . ', 'Employees may change these passwords from time to time ; however , all passwords must be made known to the Company . ', 'Because your system may need to be accessed by the Company when you are absent , the Computer Department will be able to access all Company computer equipment , electronic mail and Internet accounts . ', 'Each employee is responsible for the content of all text , audio or images that they place or send over the Internet . ', 'All messages communicated on the Internet should have your name attached . ', 'No messages will be transmitted under an assumed name . ', 'Employees or other users may not attempt to obscure the origin of any message . ', 'Employees who wish to express personal opinions on the Internet are encouraged to obtain their own user names on other Internet systems . ', 'To prevent computer viruses from being transmitted through the system , employees are not authorized to download any software onto their computer or any drive in that computer . ', 'Employees interested in obtaining software from the Internet should contact the Computer Department . ', '3 Computer and System Security ', 'All computers and the data stored on them are and remain at all times the property of the Company . ', 'As such , all messages created , sent or retrieved over the Internet or the Company ’s electronic mail system are the property of the Company , and should be considered public information . ', 'The Company reserves the right to retrieve and read any message composed , sent or received on the Company ’s computer equipment and electronic mail system . ', 'Employees should be aware that , even when a message is deleted or erased , it is still possible to recreate the message ; therefore , ultimate privacy of a message cannot be ensured to anyone . ', 'Accordingly , Internet and electronic mail messages are public communication and are not private . ', 'Furthermore , all communications , including text and images , can be disclosed to law enforcement or other third parties without prior consent of , or notice to , the sender or the receiver . ', 'Violations Violations of any guidelines listed above may result in disciplinary action up to and including termination . ', 'In addition , the Company may advise appropriate legal officials of any illegal violations . ', 'This policy is in no way intended to modify the at - will nature of employment with the Company . ', 'Solicitation / Distribution of Literature ', 'The Company has established rules applicable to all employees that govern solicitation or distribution of written material during working time and entry onto the premises and work areas . ', 'All employees are expected to comply strictly with these Company rules . ', '• ', 'No employee shall solicit or promote support for any cause or organization during his or her working time or during the working time of the employee or employees at whom such activity is directed . ', '• ', 'No employee shall distribute or circulate any written or printed material in work areas at any time , or during his or her working time , or during the working time of the employee or employees at whom such activity is directed . ', '• ', 'Under no circumstances will non-employees be permitted to solicit or to distribute written material for any purpose on Company property . ', '• ', 'Off duty employees are not permitted in areas not open to the public . ', 'As used in this policy , “ working time ” includes all time for which an employee is paid and / or is scheduled to be performing services for the Company . ', 'It does not include break periods , meal periods or periods in which an employee is not performing and is not scheduled to be performing services or work for the Company . ', '4 Bulletin Boards Bulletin boards are reserved for the exclusive use of the Company for posting workrelated notices or notices which must be posted pursuant to local , state and federal law . ', 'From time to time , the Company will post special notices and information for employees on the bulletin boards . ', 'Please check the boards regularly for such notices . ', 'Employee postings are not permitted ']\n"
     ]
    }
   ],
   "source": [
    "import stanza\n",
    "sentences=[]\n",
    "nlp = stanza.Pipeline(lang='en', processors='tokenize')\n",
    "doc = nlp(text)\n",
    "for i, sentence in enumerate(doc.sentences):\n",
    "    sentence_=\"\"\n",
    "    for token in sentence.tokens:\n",
    "        sentence_+=token.text+\" \"\n",
    "    sentences.append(sentence_)\n",
    "print(sentences)"
   ]
  },
  {
   "attachments": {},
   "cell_type": "markdown",
   "metadata": {},
   "source": [
    "DIFFERENT SEARCH FUNCTIONS"
   ]
  },
  {
   "attachments": {},
   "cell_type": "markdown",
   "metadata": {},
   "source": [
    "search_technique-1"
   ]
  },
  {
   "cell_type": "code",
   "execution_count": 5,
   "metadata": {},
   "outputs": [],
   "source": [
    "def direct_search(value):\n",
    "    direct_list=[]\n",
    "    for lines in sentences:\n",
    "        if value.lower() in lines.lower():\n",
    "            direct_list.append(lines)\n",
    "    return direct_list"
   ]
  },
  {
   "attachments": {},
   "cell_type": "markdown",
   "metadata": {},
   "source": [
    "search_technique-2"
   ]
  },
  {
   "cell_type": "code",
   "execution_count": 6,
   "metadata": {},
   "outputs": [],
   "source": [
    "def sentence_symentics(value):\n",
    "    select_sentence_list=[]\n",
    "    current=model.encode(value)\n",
    "    for lines in sentences:\n",
    "        line_code=model.encode(lines)\n",
    "        if util.cos_sim(line_code,current)[0][0]>0.08:\n",
    "            select_sentence_list.append(lines)\n",
    "    return select_sentence_list"
   ]
  },
  {
   "attachments": {},
   "cell_type": "markdown",
   "metadata": {},
   "source": [
    "search_technique-3"
   ]
  },
  {
   "cell_type": "code",
   "execution_count": 7,
   "metadata": {},
   "outputs": [],
   "source": [
    "\n",
    "def token_model_search(value):\n",
    "    token_list=[]\n",
    "    value_token=tokenizer.tokenize(value)\n",
    "    current=model.encode(value)\n",
    "    for lines in sentences:\n",
    "        line_token=tokenizer.tokenize(lines)\n",
    "        for word_ in line_token:\n",
    "            value_encode=model.encode(word_)\n",
    "            # print(util.cos_sim(current,value_encode))\n",
    "            if util.cos_sim(current,value_encode)[0][0]>0.4:\n",
    "                token_list.append(lines)\n",
    "                break\n",
    "    return token_list "
   ]
  },
  {
   "attachments": {},
   "cell_type": "markdown",
   "metadata": {},
   "source": [
    "REWARD_TABLE\n",
    "\n",
    "| search  | score  |\n",
    "|---|---|\n",
    "|Rule-based search|90|\n",
    "| Statistical search | 100  |\n",
    "|Lexicon-based search |302|\n",
    "|Semantic search|150|\n"
   ]
  },
  {
   "cell_type": "code",
   "execution_count": 8,
   "metadata": {},
   "outputs": [],
   "source": [
    "def reform_table():\n",
    "    with open(\"reform.json\") as toolkit:\n",
    "        table=json.load(toolkit)\n",
    "    if len(table)==0:\n",
    "        table[1]=1\n",
    "        table[2]=1\n",
    "        table[3]=1\n",
    "    return table"
   ]
  },
  {
   "attachments": {},
   "cell_type": "markdown",
   "metadata": {},
   "source": [
    "RESULTS OF ALL THREE FUNCTIONS"
   ]
  },
  {
   "cell_type": "code",
   "execution_count": 9,
   "metadata": {},
   "outputs": [],
   "source": [
    "\n",
    "def selector_model(data_tokens):\n",
    "    data_direct=direct_search(data_tokens)\n",
    "    data_symmantic=sentence_symentics(data_tokens)\n",
    "    token_symentics=token_model_search(data_tokens)\n",
    "    return [data_direct,data_symmantic,token_symentics]"
   ]
  },
  {
   "attachments": {
    "input_user.png": {
     "image/png": "[encoded data removed]"
    }
   },
   "cell_type": "markdown",
   "metadata": {},
   "source": [
    "INPUT USER NEEDS TO SEARCH\n",
    "\n",
    "![input_user.png](attachment:input_user.png)\n"
   ]
  },
  {
   "cell_type": "code",
   "execution_count": 10,
   "metadata": {},
   "outputs": [],
   "source": [
    "data_token=\"VIOLATION RULES\""
   ]
  },
  {
   "attachments": {},
   "cell_type": "markdown",
   "metadata": {},
   "source": [
    "SELECTING RENFORCEMENT TABLE"
   ]
  },
  {
   "cell_type": "code",
   "execution_count": 11,
   "metadata": {},
   "outputs": [
    {
     "name": "stdout",
     "output_type": "stream",
     "text": [
      "********* 0 *****************\n",
      "********* 1 *****************\n",
      "********* 2 *****************\n"
     ]
    }
   ],
   "source": [
    "check=selector_model(data_token)\n",
    "value_print=\"\"\n",
    "paragraphs=dict()\n",
    "for i,file_ in enumerate(check):\n",
    "    print(\"*********\",i,\"*****************\" ,end=\"\\n\")\n",
    "    para=\"\"\n",
    "    for val in file_:\n",
    "        para=para+val+\"\\n\"\n",
    "    paragraphs[i+1]=str(para)"
   ]
  },
  {
   "attachments": {},
   "cell_type": "markdown",
   "metadata": {},
   "source": [
    "PROBABILITY FUNCTION FOR ORDER PREFERENCE\n",
    "\n",
    "1. Help to get order of the result\n",
    "\n",
    "2. Result is a list having numbers represents search_techniques1 ,search_techniques_2,search_technique3\n",
    "\n",
    "3. The best thing about the probality function is that,It gets better at every usage.\n",
    "\n",
    "for e.g we have a table with score\n",
    "| serach  | score  |\n",
    "|---|---|\n",
    "|Direct search | 1  |\n",
    "|Symentics search |5|\n",
    "|token search|3|\n",
    "\n",
    "According to above table\n",
    "\n",
    "##### we create a list\n",
    "\n",
    "[1  2  2  2  2  2  3  3  3]\n",
    "\n",
    "#####  where \n",
    "* 1  :  direct search \n",
    "* 2  :  Symentics search\n",
    "* 3  :  token search\n",
    "\n",
    "Now \n",
    "- random pick a number from \n",
    "- [1 2 2 2 2 2 3 3 3] - let say we get 3\n",
    "- [1 2 2 2 2 2] - return 2\n",
    "- [ 1 ] return 1\n",
    "\n",
    "so the order will be\n",
    "\n",
    "[ 3 2 1]\n",
    "\n",
    "\n",
    "\n",
    "\n",
    "\n"
   ]
  },
  {
   "cell_type": "code",
   "execution_count": 12,
   "metadata": {},
   "outputs": [
    {
     "data": {
      "text/plain": [
       "['3', '2', '1']"
      ]
     },
     "execution_count": 12,
     "metadata": {},
     "output_type": "execute_result"
    }
   ],
   "source": [
    "reform_val=reform_table()\n",
    "value_pred=[]\n",
    "for i in reform_val:\n",
    "    for j in range(reform_val[i]):\n",
    "        value_pred.append(i)\n",
    "need=[]\n",
    "for i in reform_val:\n",
    "    rand_idx = random.randrange(len(value_pred))\n",
    "    remove_item=value_pred[rand_idx]\n",
    "    need.append(value_pred[rand_idx])\n",
    "    while(remove_item in value_pred):\n",
    "        value_pred.remove(remove_item)  \n",
    "need"
   ]
  },
  {
   "attachments": {
    "selection.png": {
     "image/png": "[encoded data removed]"
    }
   },
   "cell_type": "markdown",
   "metadata": {},
   "source": [
    "![selection.png](attachment:selection.png)"
   ]
  },
  {
   "cell_type": "code",
   "execution_count": 13,
   "metadata": {},
   "outputs": [
    {
     "name": "stdout",
     "output_type": "stream",
     "text": [
      "**********search1**************\n",
      "The Company reserves the right , at all times and without further notice , to inspect and search all Company property for the purpose of determining whether this policy or any other policy of the Company has been violated , or when an inspection and investigation is necessary for purposes of promoti\n",
      "**********search2**************\n",
      "SAMPLE POLICY ON THE USE OF COMPANY EQUIPMENT , THE INTERNET , COMPUTERS , SOLICITATION AND BULLETIN BOARDS \n",
      "Use of Equipment All Company property – including desks , storage areas , work areas , lockers , file cabinets , credenzas , computer systems , office telephones , cellular telephones , modem\n",
      "**********search3**************\n",
      "\n",
      "Model is unable to find results\n"
     ]
    }
   ],
   "source": [
    "t=1\n",
    "for i in need:\n",
    "    print(\"**********search\"+str(t)+\"**************\")\n",
    "    print(paragraphs[int(i)][:300],end=\"\\n\")\n",
    "    t+=1\n",
    "    if len(paragraphs[int(i)][:300])==0:\n",
    "        print(\"Model is unable to find results\")\n",
    "    "
   ]
  },
  {
   "cell_type": "code",
   "execution_count": null,
   "metadata": {},
   "outputs": [],
   "source": []
  }
 ],
 "metadata": {
  "kernelspec": {
   "display_name": "base",
   "language": "python",
   "name": "python3"
  },
  "language_info": {
   "codemirror_mode": {
    "name": "ipython",
    "version": 3
   },
   "file_extension": ".py",
   "mimetype": "text/x-python",
   "name": "python",
   "nbconvert_exporter": "python",
   "pygments_lexer": "ipython3",
   "version": "3.10.8"
  },
  "orig_nbformat": 4,
  "vscode": {
   "interpreter": {
    "hash": "865d8b2eb28e274047ba64063dfb6a2aabf0dfec4905d304d7a76618dae6fdd4"
   }
  }
 },
 "nbformat": 4,
 "nbformat_minor": 2
}
